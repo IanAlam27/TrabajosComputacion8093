{
 "cells": [
  {
   "cell_type": "markdown",
   "metadata": {},
   "source": [
    "# PRACTICA 2. Trabajo con archivos "
   ]
  },
  {
   "cell_type": "markdown",
   "metadata": {},
   "source": [
    "Ian Alam Rodriguez Rodriguez"
   ]
  },
  {
   "cell_type": "markdown",
   "metadata": {},
   "source": [
    "1. Copia el archivo (utilizando comandos de bash) que se encuentra en directorio/TLALPAN/sectorH/names_2009-08-30.txt a la carpeta Resultado.\n",
    "Ahora colócate en el directorio Resultado y ejecuta los siguientes comandos, para responder a las siguientes preguntas:"
   ]
  },
  {
   "cell_type": "code",
   "execution_count": null,
   "metadata": {},
   "outputs": [],
   "source": [
    "a) cd /Computacion2020-8093\n",
    "b) tar -xzf base.tar.gz\n",
    "c) mkdir Resultado\n",
    "d) cp directorio/TLALPAN/sectorH/names_2009-08-30.txt Resultado\n",
    "e) cd Practicas\n",
    "f) cd Resultado"
   ]
  },
  {
   "cell_type": "markdown",
   "metadata": {},
   "source": [
    "2. ¿Cuál es el resultado de ejecutar los siguientes comandos en la terminal?\n",
    "\n",
    "a) cat < names_2009-08-30.txt > names_cat.txt\n",
    "+ Lo que hace el comando es imprimir el contenido de *names_2009-08-30.txt* a un archivo nuevo llamado *names_cat.txt*. A pesar de que este segundo no existia el comando escribe el archivo automaticamente.\n"
   ]
  },
  {
   "cell_type": "markdown",
   "metadata": {},
   "source": [
    "b) cat < names_2009-08-30.txt >> names_cat.txt"
   ]
  },
  {
   "cell_type": "markdown",
   "metadata": {},
   "source": [
    "+ Lo que hace es redireccionar cat con *names_2009-08-30.txt* e imprimiendolos en *names_cat.txt\" pero sin sobreescribir el archivo sino imprimiendolos seguido de lo que ya existía en el archivo. "
   ]
  },
  {
   "cell_type": "markdown",
   "metadata": {},
   "source": [
    "3. ¿Cuál es la diferencia entre ambos? Explícalo con tus propias palabras."
   ]
  },
  {
   "cell_type": "markdown",
   "metadata": {},
   "source": [
    "+ Uno simplemente imprime lo que hay en *names_2009-08-30.txt* en *names_cat.txt*, si no exisitía el ultimo lo crea y manda la información al otro.\n",
    "+ El otro imprime lo que hay en *names_2009-08-30.txt* y lo vuelve a poner en *names_cat.txt* pero sin reescribir los elementos si no que los pone enseguida de los otros."
   ]
  },
  {
   "cell_type": "markdown",
   "metadata": {},
   "source": [
    "4. ¿Cuál es la diferencia entre estos comandos?\n"
   ]
  },
  {
   "cell_type": "markdown",
   "metadata": {},
   "source": [
    "a) cat names.txt 2> err.dat\n",
    "+ Lo que hace es imprimir lo que hay en *names.txt* a * err.dat*, pero como ese archivo no existía entonces lo genera y al mismo tiempo vacía su contenido.\n",
    "\n",
    "b) cata names.txt 2> err.dat\n",
    "+ Este comando no existe por lo que no hace nada."
   ]
  },
  {
   "cell_type": "markdown",
   "metadata": {},
   "source": [
    "5. Por último ejecuta: cat > feliz enseguida escibre algo y luego ejecuta Ctrl+D dos veces. ¿qué fue lo que sucedio?"
   ]
  },
  {
   "cell_type": "markdown",
   "metadata": {},
   "source": [
    "+ Nos crea o imprime un archivo llamado *feliz*, en mi caso despues de eso debía dar -Enter- y escribir algo en mi caso (MyLittlePony) y ahora si dar Ctrl+D por que si daba doble Ctrl+D me eviaba a la ruta de inicio. Lo que sucedió fue que en *feliz* se escribió *MyLittlePony*."
   ]
  },
  {
   "cell_type": "markdown",
   "metadata": {},
   "source": [
    "6. ¿Existe algúna forma, con los comandos de bash, de mostrar el archivo de forma inversa? En caso de existir, utilízalo para ver el archivo directorio/COYOACAN/sectorG/names_2005-09-27.txt y guarda la salida en el archivo catinverso.dat"
   ]
  },
  {
   "cell_type": "markdown",
   "metadata": {},
   "source": [
    "+ Sí, primero cambiamos de directorio a:\n",
    "1) cd Practicas/\n",
    "2) Despues escribir tac seguido del directorio o archivo al cual vamos a ejecutar el comando. \n",
    "Despues abrir *>* para redireccionarlo al archivo *catinverso.dat*, es decir, *tac directorio/COYOACAN/sectorG/names_2005-09-27.dat > Resultado/catinverso.dat*"
   ]
  },
  {
   "cell_type": "markdown",
   "metadata": {},
   "source": [
    "7. Crea un solo archivo con el nombre todosarchivos.txt que tenga el contenido de todos los archivos del directorio directorio/CUAUHTEMOC/sectorE/"
   ]
  },
  {
   "cell_type": "markdown",
   "metadata": {},
   "source": [
    "+ Lo primero que hice fue crear un archivo llamado todosloarchivos.txt en el direcotrio Resultado, despues cambiarme de directorio a *cd Practicas/directorio/CUAUHTEMOC/sectorE*, una vez ahi ejecuto el comando *mv todoslosarchivos.txt* a */mnt/c/Users/ianalam/Computacion2020-8093/Practicas/Resultado/*."
   ]
  },
  {
   "cell_type": "markdown",
   "metadata": {},
   "source": [
    "8. Coloca en un archivo con el nombre colacabeza las primeras 23 líneas numeradas y las últimas 32 líneas numeradas del archivo todosarchivos.txt"
   ]
  },
  {
   "cell_type": "code",
   "execution_count": null,
   "metadata": {},
   "outputs": [],
   "source": [
    "1) cd Resultado/\n",
    "2) head -23 todoslosarchivos.txt > colacabeza\n",
    "3) tail -32 todoslosarchivos.txt >> colacabeza"
   ]
  },
  {
   "cell_type": "markdown",
   "metadata": {},
   "source": [
    "* PERMISOS"
   ]
  },
  {
   "cell_type": "markdown",
   "metadata": {},
   "source": [
    "12. Explica que hace el comando umask y pon un ejemplo de su uso."
   ]
  },
  {
   "cell_type": "markdown",
   "metadata": {},
   "source": [
    "+ Sirve para establecer los permisos por defecto que tendrán los nuevos ficheros y directorios que creemos."
   ]
  },
  {
   "cell_type": "markdown",
   "metadata": {},
   "source": [
    "10. Copia la carpeta CUAUHTEMOC dentro de Resultados/ y cambia los permisos de todos los archivos de la siguiente manera sólo lectura y escritura para el dueño, sólo ejecución para el grupo y sólo lectura para los demás."
   ]
  },
  {
   "cell_type": "code",
   "execution_count": null,
   "metadata": {},
   "outputs": [],
   "source": [
    "1. cd CUAUHTEMOC\n",
    "2. mv /mnt/c/Users/ianalam/Computacion2020-8093/Practicas/directorio/CUAUHTEMOC/ /mnt/c/Users/ianalam/Computacion2020-8093/Practicas/Result\n",
    "ado/\n",
    "3. cd Resultado/ \n",
    "4. ls -l \n",
    "5. Luego poner *chmod u-x,g-rw,o-xw CUAUHTEMOC/* para darle los permisos que ocupa. Por alguna razón cuando ejecuté el\n",
    "comando y dí ls -l los permisos no aparecían como modificados y se veían igual.\n"
   ]
  },
  {
   "cell_type": "markdown",
   "metadata": {},
   "source": [
    "11. Cambia los permisos (por el método octal) de todos los archivos con terminación .txt dentro de la carpeta CUAUHTEMOC/sectorG/, de tal manera que el dueño tenga lectura, escritura y ejecución, sólo lectura para el grupo y ningún permiso para los demás."
   ]
  },
  {
   "cell_type": "markdown",
   "metadata": {},
   "source": [
    "1. *chmod 740 CUAUHTEMOC/sectorG/ *.txt* \n",
    "Al menos creo que asi debería ser el orden."
   ]
  },
  {
   "cell_type": "markdown",
   "metadata": {},
   "source": [
    "12. Cambia los permisos de todos los archivos con terminación .dat dentro de la carpeta CUAUHTEMOC/sectorP/, de tal manera que el dueño tenga todos los permisos, sólo ejecución para el grupo y sólo lectura para los demás. Aplica un ls -l para ver el resultado y guarda eso en un archivo con nombre permisos.dat"
   ]
  },
  {
   "cell_type": "markdown",
   "metadata": {},
   "source": [
    "1. chmod 714 CUAUHTEMOC/sectorP/ *.dat\n",
    "2. cd CUAUHTEMOC/sectorP/\n",
    "3. ls -l \n",
    "4. Para pasar los archivos a *permisos.dat* solo pones *ls >> /mnt/c/Users/ianalam/Computacion2020-8093/Practicas/Resultado/todoslosarchivos.txt*"
   ]
  },
  {
   "cell_type": "markdown",
   "metadata": {},
   "source": [
    "13. Utiliza el método (númerico o simbólico) que quieras para cambiar los permisos de todos los archivos en cuyo nombre este la fecha de mayo (05) que están dentro de la carpetas CUAUHTEMOC/sectorP/ y CUAUHTEMOC/sectorO/. Los permisos deberán quedar de la siguiente manera todos los permisos para el dueño y ningún permiso para el grupo y los demás usuarios.\n"
   ]
  },
  {
   "cell_type": "markdown",
   "metadata": {},
   "source": [
    "1. chmod 700 CUAUHTEMOC/sectorP/*-05-* \n",
    "2. chmod 700 CUAUHTEMOC/sectorO/*-05-* "
   ]
  },
  {
   "cell_type": "markdown",
   "metadata": {},
   "source": [
    "14. ¿Cuántos archivos tienen una extensión de .txt y cuántos tienen una extension .dat?"
   ]
  },
  {
   "cell_type": "markdown",
   "metadata": {},
   "source": [
    "1. *find directorio/ -name *.txt* | nl -b a* para ver los archivos .txt de directorio/ y son 1911 archivos con teminacion .txt\n",
    "2. *find directorio/ .name *.dat* | nl -b a* para ver los archivos .dat de directorio/ y son 1987 archivos con terminación .dat"
   ]
  },
  {
   "cell_type": "markdown",
   "metadata": {},
   "source": [
    "+ Mestro la verdad con estos ultimos comandos tuve bastantes problemas y me confundían bastante así que seguí mi logica de como me darían esos resultados.\n"
   ]
  },
  {
   "cell_type": "markdown",
   "metadata": {},
   "source": [
    "15. ¿Cuántos veces aparece tu nombre (sin apellido) en todos los archivos?"
   ]
  },
  {
   "cell_type": "markdown",
   "metadata": {},
   "source": [
    "+ Para verlo ocupe *grep -r -i ian directorio/ | nl -b a* y son 5998"
   ]
  },
  {
   "cell_type": "markdown",
   "metadata": {},
   "source": [
    "16. ¿En cuántos archivos NO aparecen tus nombres?\n"
   ]
  },
  {
   "cell_type": "markdown",
   "metadata": {},
   "source": [
    "+ Para verlos sería *grep -v -i ianalam directorio/ nl -b a* "
   ]
  },
  {
   "cell_type": "markdown",
   "metadata": {},
   "source": [
    "17. Cuántos veces coincide tus nombres con un archivo que tenga el año de tu nacimiento?"
   ]
  },
  {
   "cell_type": "markdown",
   "metadata": {},
   "source": [
    "+ ocupando grep -r -i ian directorio/ | grep 2002| nl -b a* y no es mi nombre per me despliega 293 veces donde aparece en los nombres las tres letras \"ian\""
   ]
  },
  {
   "cell_type": "markdown",
   "metadata": {},
   "source": [
    "18. ¿De cuántos directorios y subdirectorios está compuesta la base de datos?"
   ]
  },
  {
   "cell_type": "markdown",
   "metadata": {},
   "source": [
    "+ Esta compuesta de un directorio prinipal llamado \"directorio\" y 16 subdirectorios."
   ]
  },
  {
   "cell_type": "markdown",
   "metadata": {},
   "source": [
    "19. ¿Cuántos archivos tienen un tamaño menor a 1150 bytes?"
   ]
  },
  {
   "cell_type": "markdown",
   "metadata": {},
   "source": [
    "+ Ocupando *find . -type f -size -1150c | nl -b a* y me indica 4173"
   ]
  },
  {
   "cell_type": "markdown",
   "metadata": {},
   "source": [
    "20. ¿Cuántos archivos coinciden con el año 2020 en su nombre y además pertencen al sectorS?"
   ]
  },
  {
   "cell_type": "markdown",
   "metadata": {},
   "source": [
    "+ Yo ocupe el comando *find directorio/ -name *2002* | grep sectorS | nl -b a* y son 7 elementos los que coinciden."
   ]
  },
  {
   "cell_type": "code",
   "execution_count": null,
   "metadata": {},
   "outputs": [],
   "source": []
  }
 ],
 "metadata": {
  "kernelspec": {
   "display_name": "Bash",
   "language": "bash",
   "name": "bash"
  },
  "language_info": {
   "name": ""
  }
 },
 "nbformat": 4,
 "nbformat_minor": 4
}
